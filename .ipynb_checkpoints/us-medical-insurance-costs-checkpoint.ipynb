{
 "cells": [
  {
   "cell_type": "markdown",
   "metadata": {},
   "source": [
    "# U.S. Medical Insurance Costs"
   ]
  },
  {
   "cell_type": "markdown",
   "metadata": {},
   "source": [
    "Question: How do you find the median, mode, mean at the call of a function?"
   ]
  },
  {
   "cell_type": "code",
   "execution_count": 2,
   "metadata": {},
   "outputs": [],
   "source": [
    "# importing python library for analysis \n",
    "import csv"
   ]
  },
  {
   "cell_type": "code",
   "execution_count": 3,
   "metadata": {},
   "outputs": [],
   "source": [
    "# narrowing down the only variables we need for analysis\n",
    "ages = []\n",
    "sexes = []\n",
    "bmis = []\n",
    "num_children = []\n",
    "smoker_statuses = []\n",
    "regions = []\n",
    "insurance_charges = []"
   ]
  },
  {
   "cell_type": "code",
   "execution_count": 4,
   "metadata": {},
   "outputs": [],
   "source": [
    "# a helper function to organize all of the data into variables\n",
    "def loader(cv, cat, lst):\n",
    "    with open(cv) as data:\n",
    "        read_data = csv.DictReader(data)\n",
    "        for read in read_data:\n",
    "            lst.append(read[cat])"
   ]
  },
  {
   "cell_type": "code",
   "execution_count": 5,
   "metadata": {},
   "outputs": [],
   "source": [
    "# loading all of the data for future analysis \n",
    "loader('insurance.csv','age',ages)\n",
    "loader('insurance.csv','sex',sexes)\n",
    "loader('insurance.csv','bmi',bmis)\n",
    "loader('insurance.csv','children',num_children)\n",
    "loader('insurance.csv','smoker',smoker_statuses)\n",
    "loader('insurance.csv','region',regions)\n",
    "loader('insurance.csv','charges',insurance_charges)"
   ]
  },
  {
   "cell_type": "code",
   "execution_count": 18,
   "metadata": {},
   "outputs": [],
   "source": [
    "# mean function \n",
    "def mean(lst):\n",
    "    sum = 0\n",
    "    for num in lst:\n",
    "        int_num = int(num)\n",
    "        sum += int_num\n",
    "    return round(sum/len(lst), 2)\n",
    "# median function\n",
    "def median(lst):\n",
    "    int_lst = []\n",
    "    for num in lst:\n",
    "        int_lst.append(int(num))\n",
    "    sorted_lst = sorted(int_lst)\n",
    "    middle = len(sorted_lst) // 2\n",
    "    if len(sorted_lst) % 2 == 0:\n",
    "        return (sorted_lst[middle - 1] + sorted_lst[middle]) / 2\n",
    "    else:\n",
    "        return sorted_lst[middle]    \n",
    "# mode function\n",
    "def mode(lst):\n",
    "    counts = {}\n",
    "    for item in lst:\n",
    "        if item in counts:\n",
    "            counts[item] += 1\n",
    "        else:\n",
    "            counts[item] = 1\n",
    "    return [key for key in counts.keys() if counts[key] == max(counts.values())]\n"
   ]
  }
 ],
 "metadata": {
  "kernelspec": {
   "display_name": "Python 3 (ipykernel)",
   "language": "python",
   "name": "python3"
  },
  "language_info": {
   "codemirror_mode": {
    "name": "ipython",
    "version": 3
   },
   "file_extension": ".py",
   "mimetype": "text/x-python",
   "name": "python",
   "nbconvert_exporter": "python",
   "pygments_lexer": "ipython3",
   "version": "3.11.4"
  }
 },
 "nbformat": 4,
 "nbformat_minor": 4
}
