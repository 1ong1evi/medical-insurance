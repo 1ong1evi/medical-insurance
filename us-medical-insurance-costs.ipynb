{
 "cells": [
  {
   "cell_type": "markdown",
   "metadata": {},
   "source": [
    "# U.S. Medical Insurance Costs"
   ]
  },
  {
   "cell_type": "markdown",
   "metadata": {},
   "source": [
    "Question: How do you find the median, mode, mean at the call of a function?"
   ]
  },
  {
   "cell_type": "code",
   "execution_count": 76,
   "metadata": {},
   "outputs": [],
   "source": [
    "# importing python library for analysis \n",
    "import csv"
   ]
  },
  {
   "cell_type": "code",
   "execution_count": 77,
   "metadata": {},
   "outputs": [],
   "source": [
    "# narrowing down the only variables we need for analysis\n",
    "ages = []\n",
    "sexes = []\n",
    "bmis = []\n",
    "num_children = []\n",
    "smoker_statuses = []\n",
    "regions = []\n",
    "insurance_charges = []"
   ]
  },
  {
   "cell_type": "code",
   "execution_count": 78,
   "metadata": {},
   "outputs": [],
   "source": [
    "# a helper function to organize all of the data into variables\n",
    "def loader(cv, cat, lst):\n",
    "    with open(cv) as data:\n",
    "        read_data = csv.DictReader(data)\n",
    "        for read in read_data:\n",
    "            lst.append(read[cat])"
   ]
  },
  {
   "cell_type": "code",
   "execution_count": 79,
   "metadata": {},
   "outputs": [],
   "source": [
    "# loading all of the data for future analysis \n",
    "loader('insurance.csv','age',ages)\n",
    "loader('insurance.csv','sex',sexes)\n",
    "loader('insurance.csv','bmi',bmis)\n",
    "loader('insurance.csv','children',num_children)\n",
    "loader('insurance.csv','smoker',smoker_statuses)\n",
    "loader('insurance.csv','region',regions)\n",
    "loader('insurance.csv','charges',insurance_charges)"
   ]
  },
  {
   "cell_type": "code",
   "execution_count": 82,
   "metadata": {},
   "outputs": [],
   "source": [
    "# mean function \n",
    "def mean(lst):\n",
    "    sum = 0\n",
    "    for num in lst:\n",
    "        int_num = int(num)\n",
    "        sum += int_num\n",
    "    return round(sum/len(lst), 2)\n",
    "# median function\n",
    "def median(lst):\n",
    "    for num in lst:\n",
    "        int_lst = int(num)\n",
    "    sorted_lst = lst.sort()\n",
    "    sorts = sorted_lst[len(sorted_lst)/2]\n",
    "    if sorts % 2 == 0:\n",
    "        return sorts\n",
    "    else: \n",
    "        return (sorts + sorts[+1])/2\n",
    "    \n",
    "# mode function\n"
   ]
  },
  {
   "cell_type": "code",
   "execution_count": 83,
   "metadata": {},
   "outputs": [
    {
     "ename": "TypeError",
     "evalue": "object of type 'NoneType' has no len()",
     "output_type": "error",
     "traceback": [
      "\u001b[1;31m---------------------------------------------------------------------------\u001b[0m",
      "\u001b[1;31mTypeError\u001b[0m                                 Traceback (most recent call last)",
      "Cell \u001b[1;32mIn[83], line 1\u001b[0m\n\u001b[1;32m----> 1\u001b[0m \u001b[38;5;28mprint\u001b[39m(\u001b[43mmedian\u001b[49m\u001b[43m(\u001b[49m\u001b[43mages\u001b[49m\u001b[43m)\u001b[49m)\n",
      "Cell \u001b[1;32mIn[82], line 13\u001b[0m, in \u001b[0;36mmedian\u001b[1;34m(lst)\u001b[0m\n\u001b[0;32m     11\u001b[0m     int_lst \u001b[38;5;241m=\u001b[39m \u001b[38;5;28mint\u001b[39m(num)\n\u001b[0;32m     12\u001b[0m sorted_lst \u001b[38;5;241m=\u001b[39m lst\u001b[38;5;241m.\u001b[39msort()\n\u001b[1;32m---> 13\u001b[0m sorts \u001b[38;5;241m=\u001b[39m sorted_lst[\u001b[38;5;28mlen\u001b[39m(sorted_lst)\u001b[38;5;241m/\u001b[39m\u001b[38;5;241m2\u001b[39m]\n\u001b[0;32m     14\u001b[0m \u001b[38;5;28;01mif\u001b[39;00m sorts \u001b[38;5;241m%\u001b[39m \u001b[38;5;241m2\u001b[39m \u001b[38;5;241m==\u001b[39m \u001b[38;5;241m0\u001b[39m:\n\u001b[0;32m     15\u001b[0m     \u001b[38;5;28;01mreturn\u001b[39;00m sorts\n",
      "\u001b[1;31mTypeError\u001b[0m: object of type 'NoneType' has no len()"
     ]
    }
   ],
   "source": [
    "print(median(ages))"
   ]
  },
  {
   "cell_type": "code",
   "execution_count": null,
   "metadata": {},
   "outputs": [],
   "source": []
  },
  {
   "cell_type": "code",
   "execution_count": null,
   "metadata": {},
   "outputs": [],
   "source": []
  }
 ],
 "metadata": {
  "kernelspec": {
   "display_name": "Python 3 (ipykernel)",
   "language": "python",
   "name": "python3"
  },
  "language_info": {
   "codemirror_mode": {
    "name": "ipython",
    "version": 3
   },
   "file_extension": ".py",
   "mimetype": "text/x-python",
   "name": "python",
   "nbconvert_exporter": "python",
   "pygments_lexer": "ipython3",
   "version": "3.11.4"
  }
 },
 "nbformat": 4,
 "nbformat_minor": 4
}
